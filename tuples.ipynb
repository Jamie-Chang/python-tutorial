{
 "cells": [
  {
   "cell_type": "markdown",
   "metadata": {},
   "source": [
    "# Tuple\n"
   ]
  },
  {
   "cell_type": "markdown",
   "metadata": {},
   "source": [
    "## Type Annotation\n",
    "Unlike other data structures, each field of a tuple should be annotated. \n",
    "\n",
    "This ties closely with how a tuple is used, often as a way to return or pass a record containing different types.\n",
    "\n",
    "A `tuple` of `('a', 1, True)` should be annotated as `tuple[str, int, bool]`. If instead you wish to annotate a `tuple` of varying length: `tuple[int, ...]`."
   ]
  },
  {
   "cell_type": "markdown",
   "metadata": {},
   "source": [
    "## Basics"
   ]
  },
  {
   "cell_type": "markdown",
   "metadata": {},
   "source": [
    "### Exercises\n",
    "#### Basic tuple indexing"
   ]
  },
  {
   "cell_type": "code",
   "execution_count": null,
   "metadata": {},
   "outputs": [],
   "source": [
    "# create empty tuple\n",
    "empty_tuple = None  # TODO\n",
    "tuple_of_one = None  # TODO\n",
    "# create tuple of 1\n",
    "\n",
    "nums = 1, 2, 3, 4, 5\n",
    "first = None  # TODO\n",
    "last = None  # TODO\n",
    "\n",
    "\n",
    "assert isinstance(empty_tuple, tuple) and len(empty_tuple) == 0\n",
    "assert isinstance(tuple_of_one, tuple) and len(tuple_of_one) == 1\n",
    "assert first == 1\n",
    "assert last == 5\n"
   ]
  },
  {
   "cell_type": "markdown",
   "metadata": {},
   "source": [
    "#### Using tuples as a vector"
   ]
  },
  {
   "cell_type": "code",
   "execution_count": null,
   "metadata": {},
   "outputs": [],
   "source": [
    "def add(v1: tuple[int, int], v2: tuple[int, int]) -> tuple[int, int]:\n",
    "    \"\"\"Add 2 vectors together returning a vector.\"\"\"\n",
    "    # NOTE: tuples are immutable\n",
    "    ...\n",
    "\n",
    "\n",
    "def sub(v1: tuple[int, int], v2: tuple[int, int]) -> tuple[int, int]:\n",
    "    \"\"\"Subtract 2 vectors together returning a vector.\"\"\"\n",
    "    ...\n",
    "\n",
    "\n",
    "### TESTING ###\n",
    "from hypothesis import given, strategies as st\n",
    "\n",
    "\n",
    "assert add((1, 2), (3, 4)) == (4, 6)\n",
    "assert sub((10, 9), (8, 7)) == (2, 2)\n",
    "\n",
    "\n",
    "@given(st.tuples(st.integers(), st.integers()), st.tuples(st.integers(), st.integers()))\n",
    "def test_add_sub(v1: tuple[int, int], v2: tuple[int, int]):\n",
    "    assert sub(add(v1, v2), v1) == v1\n",
    "    assert sub(add(v1, v2), v1) is not None\n",
    "    assert sub(add(v1, v2), v1) is not v1, \"Remember tuples are immutable\"\n",
    "\n",
    "\n",
    "test_add_sub()\n"
   ]
  },
  {
   "cell_type": "markdown",
   "metadata": {},
   "source": [
    "## Unpacking"
   ]
  },
  {
   "cell_type": "markdown",
   "metadata": {},
   "source": [
    "### Examples"
   ]
  },
  {
   "cell_type": "code",
   "execution_count": 20,
   "metadata": {},
   "outputs": [],
   "source": [
    "(a, b) = (1, 2)\n",
    "assert a == 1\n",
    "assert b == 2\n",
    "\n",
    "# You can omit the \"(\" and \")\"\n",
    "a, b = 1, 2\n",
    "assert a == 1\n",
    "assert b == 2"
   ]
  },
  {
   "cell_type": "markdown",
   "metadata": {},
   "source": [
    "### Exercises"
   ]
  },
  {
   "cell_type": "markdown",
   "metadata": {},
   "source": [
    "#### Unpacking inside a for loop"
   ]
  },
  {
   "cell_type": "code",
   "execution_count": null,
   "metadata": {},
   "outputs": [],
   "source": [
    "# TODO: Simplify this by unpacking\n",
    "mapping = [(1, \"a\"), (2, \"b\")]\n",
    "for item in mapping:\n",
    "    i = item[0]\n",
    "    char = item[1]\n",
    "    ...\n"
   ]
  },
  {
   "cell_type": "markdown",
   "metadata": {},
   "source": [
    "#### Unpacking and Collecting"
   ]
  },
  {
   "cell_type": "code",
   "execution_count": null,
   "metadata": {},
   "outputs": [],
   "source": [
    "# Unpacking multiple values\n",
    "values = 1, 2, 3, 4, 5\n",
    "\n",
    "# TODO: Simplify this by unpacking\n",
    "a = values[0]\n",
    "b = list(values[1 : 4])\n",
    "c = values[-1]\n",
    "\n",
    "assert a == 1\n",
    "assert c == 5\n",
    "assert b == [2, 3, 4]  # Note * collects a sequence to a list\n"
   ]
  },
  {
   "cell_type": "markdown",
   "metadata": {},
   "source": [
    "#### Multi-level Unpacking"
   ]
  },
  {
   "cell_type": "code",
   "execution_count": null,
   "metadata": {},
   "outputs": [],
   "source": [
    "multi_level: tuple[int, int, tuple[int, int]] = 1, 2, (3, 4)\n",
    "\n",
    "# TODO: Simplify this\n",
    "a = multi_level[0]\n",
    "b = multi_level[1]\n",
    "c = multi_level[2][0]\n",
    "d = multi_level[2][1]\n",
    "\n",
    "assert (a, b, c, d) == (1, 2, 3, 4)"
   ]
  },
  {
   "cell_type": "markdown",
   "metadata": {},
   "source": [
    "### Challenge: Binary Tree\n",
    "\n",
    "We want to use tuple to create a simple [binary tree](https://en.wikipedia.org/wiki/Binary_tree).\n",
    "\n",
    "A node can be typed recursively as follows:\n"
   ]
  },
  {
   "cell_type": "code",
   "execution_count": 21,
   "metadata": {},
   "outputs": [],
   "source": [
    "from typing import TypeAlias\n",
    "\n",
    "\n",
    "Node: TypeAlias = tuple[\"Node\", int, \"Node\"] | None"
   ]
  },
  {
   "cell_type": "markdown",
   "metadata": {},
   "source": [
    "Some examples of nodes:"
   ]
  },
  {
   "cell_type": "code",
   "execution_count": 22,
   "metadata": {},
   "outputs": [],
   "source": [
    "leaf_node: Node = (None, 5, None)\n",
    "small_tree: Node = (((None, 1, None), 2, None), 5, (None, 7, None))"
   ]
  },
  {
   "cell_type": "markdown",
   "metadata": {},
   "source": [
    "*Note: the left side of the node is always less than or equal to number and the right side is always greater than or equal*\n",
    "\n",
    "Your task is to implement a function to returning the numbers in the binary tree in ascending order."
   ]
  },
  {
   "cell_type": "code",
   "execution_count": null,
   "metadata": {},
   "outputs": [],
   "source": [
    "from typing import Iterable\n",
    "\n",
    "\n",
    "def get_numbers(tree: Node) -> Iterable[int]:\n",
    "    \"\"\"Get numbers in ascending order.\n",
    "    \n",
    "    Return value can be a list or a tuple or any iterable.\"\"\"\n",
    "    ...\n",
    "\n",
    "\n",
    "assert list(get_numbers((((None, 1, None), 2, None), 5, (None, 7, None)))) == [1, 2, 5, 7]"
   ]
  },
  {
   "cell_type": "markdown",
   "metadata": {},
   "source": [
    "The next task is to remove a node\n",
    "\n",
    "Noting that the binary tree data structure is immutable, we cannot simply remove it, we must create a new tree."
   ]
  },
  {
   "cell_type": "code",
   "execution_count": null,
   "metadata": {},
   "outputs": [],
   "source": [
    "def remove(tree: Node, number: int) -> Node:\n",
    "    ...\n",
    "\n",
    "\n",
    "new_tree = remove((((None, 1, None), 2, None), 5, (None, 7, None)), number=2)\n",
    "\n",
    "assert list(get_numbers(new_tree)) == [1, 5, 7]"
   ]
  }
 ],
 "metadata": {
  "kernelspec": {
   "display_name": "Python 3.11.0 ('.venv': venv)",
   "language": "python",
   "name": "python3"
  },
  "language_info": {
   "codemirror_mode": {
    "name": "ipython",
    "version": 3
   },
   "file_extension": ".py",
   "mimetype": "text/x-python",
   "name": "python",
   "nbconvert_exporter": "python",
   "pygments_lexer": "ipython3",
   "version": "3.11.0"
  },
  "orig_nbformat": 4,
  "vscode": {
   "interpreter": {
    "hash": "1b535a4e84f41744c7957d02e15d7ef462f39e22797ca6bc77d89226aeb91505"
   }
  }
 },
 "nbformat": 4,
 "nbformat_minor": 2
}
